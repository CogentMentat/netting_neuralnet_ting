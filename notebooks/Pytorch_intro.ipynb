{
 "cells": [
  {
   "cell_type": "markdown",
   "id": "70d08203",
   "metadata": {},
   "source": [
    "# Intro to Pytorch\n",
    "\n",
    "Guided by [Sebastian Raschka](https://github.com/rasbt/machine-learning-book)."
   ]
  },
  {
   "cell_type": "code",
   "execution_count": 1,
   "id": "b9bd6209",
   "metadata": {},
   "outputs": [],
   "source": [
    "import torch\n",
    "import numpy as np"
   ]
  },
  {
   "cell_type": "code",
   "execution_count": 2,
   "id": "4eed0290",
   "metadata": {},
   "outputs": [],
   "source": [
    "np.set_printoptions(precision=3)"
   ]
  },
  {
   "cell_type": "code",
   "execution_count": 3,
   "id": "57275643",
   "metadata": {},
   "outputs": [],
   "source": [
    "a = [1,2,3]"
   ]
  },
  {
   "cell_type": "code",
   "execution_count": 4,
   "id": "c4cdf3c2",
   "metadata": {},
   "outputs": [],
   "source": [
    "b = np.array([4,5,6], dtype=np.int32)"
   ]
  },
  {
   "cell_type": "code",
   "execution_count": 20,
   "id": "07718362",
   "metadata": {},
   "outputs": [],
   "source": [
    "t_a = torch.tensor(a)"
   ]
  },
  {
   "cell_type": "code",
   "execution_count": 6,
   "id": "89465774",
   "metadata": {},
   "outputs": [],
   "source": [
    "t_b = torch.from_numpy(b)"
   ]
  },
  {
   "cell_type": "code",
   "execution_count": 21,
   "id": "ec422b16",
   "metadata": {},
   "outputs": [
    {
     "name": "stdout",
     "output_type": "stream",
     "text": [
      "tensor([1, 2, 3])\n"
     ]
    }
   ],
   "source": [
    "print(t_a)"
   ]
  },
  {
   "cell_type": "code",
   "execution_count": 8,
   "id": "dc28787c",
   "metadata": {},
   "outputs": [
    {
     "name": "stdout",
     "output_type": "stream",
     "text": [
      "tensor([4, 5, 6], dtype=torch.int32)\n"
     ]
    }
   ],
   "source": [
    "print(t_b)"
   ]
  },
  {
   "cell_type": "code",
   "execution_count": 10,
   "id": "df7a95c2",
   "metadata": {},
   "outputs": [
    {
     "data": {
      "text/plain": [
       "tensor([[1., 1., 1.],\n",
       "        [1., 1., 1.]])"
      ]
     },
     "execution_count": 10,
     "metadata": {},
     "output_type": "execute_result"
    }
   ],
   "source": [
    "t_ones = torch.ones(2,3)\n",
    "t_ones"
   ]
  },
  {
   "cell_type": "code",
   "execution_count": 12,
   "id": "264100a2",
   "metadata": {},
   "outputs": [
    {
     "data": {
      "text/plain": [
       "torch.Size([2, 3])"
      ]
     },
     "execution_count": 12,
     "metadata": {},
     "output_type": "execute_result"
    }
   ],
   "source": [
    "t_ones.shape"
   ]
  },
  {
   "cell_type": "code",
   "execution_count": 16,
   "id": "e2004155",
   "metadata": {},
   "outputs": [
    {
     "data": {
      "text/plain": [
       "tensor([[0.8696, 0.3338, 0.8914],\n",
       "        [0.1868, 0.2204, 0.4150]])"
      ]
     },
     "execution_count": 16,
     "metadata": {},
     "output_type": "execute_result"
    }
   ],
   "source": [
    "rand_tensor = torch.rand(2,3)\n",
    "rand_tensor"
   ]
  },
  {
   "cell_type": "code",
   "execution_count": 24,
   "id": "57ccdf65",
   "metadata": {},
   "outputs": [
    {
     "data": {
      "text/plain": [
       "torch.int32"
      ]
     },
     "execution_count": 24,
     "metadata": {},
     "output_type": "execute_result"
    }
   ],
   "source": [
    "t_b.dtype"
   ]
  },
  {
   "cell_type": "code",
   "execution_count": 25,
   "id": "a7ef7c0c",
   "metadata": {},
   "outputs": [
    {
     "data": {
      "text/plain": [
       "torch.int64"
      ]
     },
     "execution_count": 25,
     "metadata": {},
     "output_type": "execute_result"
    }
   ],
   "source": [
    "t_b_new = t_b.to(torch.int64)\n",
    "t_b_new.dtype"
   ]
  },
  {
   "cell_type": "markdown",
   "id": "f2502d80",
   "metadata": {},
   "source": [
    "## Math"
   ]
  },
  {
   "cell_type": "code",
   "execution_count": 27,
   "id": "e845c067",
   "metadata": {},
   "outputs": [
    {
     "data": {
      "text/plain": [
       "<torch._C.Generator at 0x10e06a790>"
      ]
     },
     "execution_count": 27,
     "metadata": {},
     "output_type": "execute_result"
    }
   ],
   "source": [
    "torch.manual_seed(1)"
   ]
  },
  {
   "cell_type": "code",
   "execution_count": 30,
   "id": "2963216b",
   "metadata": {},
   "outputs": [
    {
     "data": {
      "text/plain": [
       "tensor([[-0.3724, -0.6040],\n",
       "        [-0.1676, -0.4313],\n",
       "        [-0.3204,  0.0479],\n",
       "        [ 0.5961,  0.5435],\n",
       "        [-0.9776,  0.6199]])"
      ]
     },
     "execution_count": 30,
     "metadata": {},
     "output_type": "execute_result"
    }
   ],
   "source": [
    "t1 = 2*torch.rand(5,2) - 1\n",
    "t1"
   ]
  },
  {
   "cell_type": "code",
   "execution_count": 31,
   "id": "0fc268a4",
   "metadata": {},
   "outputs": [
    {
     "data": {
      "text/plain": [
       "tensor([[ 1.0579,  0.9621],\n",
       "        [ 0.3935,  1.1322],\n",
       "        [-0.5404, -2.2102],\n",
       "        [ 2.1130, -0.0040],\n",
       "        [ 1.3800, -1.3505]])"
      ]
     },
     "execution_count": 31,
     "metadata": {},
     "output_type": "execute_result"
    }
   ],
   "source": [
    "t2 = torch.normal(mean=0, std=1, size=(5,2))\n",
    "t2"
   ]
  },
  {
   "cell_type": "code",
   "execution_count": 33,
   "id": "d5668615",
   "metadata": {},
   "outputs": [
    {
     "data": {
      "text/plain": [
       "tensor([[-0.3940, -0.5810],\n",
       "        [-0.0660, -0.4884],\n",
       "        [ 0.1732, -0.1058],\n",
       "        [ 1.2596, -0.0022],\n",
       "        [-1.3490, -0.8372]])"
      ]
     },
     "execution_count": 33,
     "metadata": {},
     "output_type": "execute_result"
    }
   ],
   "source": [
    "torch.multiply(t1, t2)"
   ]
  },
  {
   "cell_type": "code",
   "execution_count": 35,
   "id": "7a453b50",
   "metadata": {},
   "outputs": [
    {
     "data": {
      "text/plain": [
       "tensor([-0.2484,  0.0352])"
      ]
     },
     "execution_count": 35,
     "metadata": {},
     "output_type": "execute_result"
    }
   ],
   "source": [
    "t4 = torch.mean(t1, axis=0)\n",
    "t4"
   ]
  },
  {
   "cell_type": "code",
   "execution_count": 37,
   "id": "ab298537",
   "metadata": {},
   "outputs": [
    {
     "data": {
      "text/plain": [
       "tensor([[-0.9750, -0.8303,  1.5361, -0.7845,  0.3017],\n",
       "        [-0.5923, -0.5543,  1.0439, -0.3525,  0.3512],\n",
       "        [-0.2929, -0.0719,  0.0673, -0.6773, -0.5069],\n",
       "        [ 1.1535,  0.8500, -1.5235,  1.2575,  0.0886],\n",
       "        [-0.4377,  0.3172, -0.8419, -2.0680, -2.1862]])"
      ]
     },
     "execution_count": 37,
     "metadata": {},
     "output_type": "execute_result"
    }
   ],
   "source": [
    "t5 = torch.matmul(t1, torch.transpose(t2, 0, 1))\n",
    "t5"
   ]
  },
  {
   "cell_type": "code",
   "execution_count": 38,
   "id": "f3f056fe",
   "metadata": {},
   "outputs": [
    {
     "data": {
      "text/plain": [
       "tensor([[-0.9750, -0.8303,  1.5361, -0.7845,  0.3017],\n",
       "        [-0.5923, -0.5543,  1.0439, -0.3525,  0.3512],\n",
       "        [-0.2929, -0.0719,  0.0673, -0.6773, -0.5069],\n",
       "        [ 1.1535,  0.8500, -1.5235,  1.2575,  0.0886],\n",
       "        [-0.4377,  0.3172, -0.8419, -2.0680, -2.1862]])"
      ]
     },
     "execution_count": 38,
     "metadata": {},
     "output_type": "execute_result"
    }
   ],
   "source": [
    "t5 = torch.matmul(t1, t2.transpose(0, 1))\n",
    "t5"
   ]
  },
  {
   "cell_type": "code",
   "execution_count": 40,
   "id": "80e5f7f0",
   "metadata": {},
   "outputs": [
    {
     "data": {
      "text/plain": [
       "tensor([[-0.9750, -0.8303,  1.5361, -0.7845,  0.3017],\n",
       "        [-0.5923, -0.5543,  1.0439, -0.3525,  0.3512],\n",
       "        [-0.2929, -0.0719,  0.0673, -0.6773, -0.5069],\n",
       "        [ 1.1535,  0.8500, -1.5235,  1.2575,  0.0886],\n",
       "        [-0.4377,  0.3172, -0.8419, -2.0680, -2.1862]])"
      ]
     },
     "execution_count": 40,
     "metadata": {},
     "output_type": "execute_result"
    }
   ],
   "source": [
    "t5 = t1.matmul(t2.transpose(0, 1))\n",
    "t5"
   ]
  },
  {
   "cell_type": "code",
   "execution_count": 41,
   "id": "abf295d0",
   "metadata": {},
   "outputs": [
    {
     "data": {
      "text/plain": [
       "tensor([[-0.3724, -0.6040],\n",
       "        [-0.1676, -0.4313],\n",
       "        [-0.3204,  0.0479],\n",
       "        [ 0.5961,  0.5435],\n",
       "        [-0.9776,  0.6199]])"
      ]
     },
     "execution_count": 41,
     "metadata": {},
     "output_type": "execute_result"
    }
   ],
   "source": [
    "t1"
   ]
  },
  {
   "cell_type": "code",
   "execution_count": 43,
   "id": "1dea03c5",
   "metadata": {},
   "outputs": [
    {
     "data": {
      "text/plain": [
       "tensor([0.7095, 0.4628, 0.3240, 0.8067, 1.1575])"
      ]
     },
     "execution_count": 43,
     "metadata": {},
     "output_type": "execute_result"
    }
   ],
   "source": [
    "norm_t1 = torch.linalg.norm(t1, ord=2, dim=1)\n",
    "norm_t1"
   ]
  },
  {
   "cell_type": "markdown",
   "id": "06dbb030",
   "metadata": {},
   "source": [
    "## Using MPS (Metal Performance Shaders) for GPU on mac"
   ]
  },
  {
   "cell_type": "code",
   "execution_count": 46,
   "id": "3d0b8ecb",
   "metadata": {},
   "outputs": [
    {
     "data": {
      "text/plain": [
       "device(type='cpu')"
      ]
     },
     "execution_count": 46,
     "metadata": {},
     "output_type": "execute_result"
    }
   ],
   "source": [
    "t1.device"
   ]
  },
  {
   "cell_type": "code",
   "execution_count": 48,
   "id": "07839303",
   "metadata": {},
   "outputs": [],
   "source": [
    "mps_device = torch.device(\"mps\")"
   ]
  },
  {
   "cell_type": "code",
   "execution_count": 49,
   "id": "05f1cd4f",
   "metadata": {},
   "outputs": [
    {
     "data": {
      "text/plain": [
       "tensor([[-0.3724, -0.6040],\n",
       "        [-0.1676, -0.4313],\n",
       "        [-0.3204,  0.0479],\n",
       "        [ 0.5961,  0.5435],\n",
       "        [-0.9776,  0.6199]], device='mps:0')"
      ]
     },
     "execution_count": 49,
     "metadata": {},
     "output_type": "execute_result"
    }
   ],
   "source": [
    "t1_mps = t1.to(mps_device)\n",
    "t1_mps"
   ]
  },
  {
   "cell_type": "code",
   "execution_count": 50,
   "id": "7a1fd24c",
   "metadata": {},
   "outputs": [
    {
     "data": {
      "text/plain": [
       "tensor([[-0.3724, -0.6040],\n",
       "        [-0.1676, -0.4313],\n",
       "        [-0.3204,  0.0479],\n",
       "        [ 0.5961,  0.5435],\n",
       "        [-0.9776,  0.6199]])"
      ]
     },
     "execution_count": 50,
     "metadata": {},
     "output_type": "execute_result"
    }
   ],
   "source": [
    "t1"
   ]
  },
  {
   "cell_type": "code",
   "execution_count": 51,
   "id": "45a7e307",
   "metadata": {},
   "outputs": [
    {
     "data": {
      "text/plain": [
       "device(type='mps', index=0)"
      ]
     },
     "execution_count": 51,
     "metadata": {},
     "output_type": "execute_result"
    }
   ],
   "source": [
    "t1_mps.device"
   ]
  },
  {
   "cell_type": "code",
   "execution_count": 52,
   "id": "10e01b35",
   "metadata": {},
   "outputs": [
    {
     "data": {
      "text/plain": [
       "device(type='cpu')"
      ]
     },
     "execution_count": 52,
     "metadata": {},
     "output_type": "execute_result"
    }
   ],
   "source": [
    "t1.device"
   ]
  },
  {
   "cell_type": "code",
   "execution_count": 53,
   "id": "d74cc407",
   "metadata": {},
   "outputs": [
    {
     "data": {
      "text/plain": [
       "array([[-0.372, -0.604],\n",
       "       [-0.168, -0.431],\n",
       "       [-0.32 ,  0.048],\n",
       "       [ 0.596,  0.544],\n",
       "       [-0.978,  0.62 ]], dtype=float32)"
      ]
     },
     "execution_count": 53,
     "metadata": {},
     "output_type": "execute_result"
    }
   ],
   "source": [
    "t1.numpy()"
   ]
  },
  {
   "cell_type": "code",
   "execution_count": 54,
   "id": "63a13edb",
   "metadata": {},
   "outputs": [
    {
     "ename": "TypeError",
     "evalue": "can't convert mps:0 device type tensor to numpy. Use Tensor.cpu() to copy the tensor to host memory first.",
     "output_type": "error",
     "traceback": [
      "\u001b[0;31m---------------------------------------------------------------------------\u001b[0m",
      "\u001b[0;31mTypeError\u001b[0m                                 Traceback (most recent call last)",
      "Cell \u001b[0;32mIn[54], line 1\u001b[0m\n\u001b[0;32m----> 1\u001b[0m \u001b[43mt1_mps\u001b[49m\u001b[38;5;241;43m.\u001b[39;49m\u001b[43mnumpy\u001b[49m\u001b[43m(\u001b[49m\u001b[43m)\u001b[49m\n",
      "\u001b[0;31mTypeError\u001b[0m: can't convert mps:0 device type tensor to numpy. Use Tensor.cpu() to copy the tensor to host memory first."
     ]
    }
   ],
   "source": [
    "t1_mps.numpy()"
   ]
  },
  {
   "cell_type": "code",
   "execution_count": null,
   "id": "e36bcf13",
   "metadata": {},
   "outputs": [],
   "source": []
  }
 ],
 "metadata": {
  "kernelspec": {
   "display_name": "Python 3 (ipykernel)",
   "language": "python",
   "name": "python3"
  },
  "language_info": {
   "codemirror_mode": {
    "name": "ipython",
    "version": 3
   },
   "file_extension": ".py",
   "mimetype": "text/x-python",
   "name": "python",
   "nbconvert_exporter": "python",
   "pygments_lexer": "ipython3",
   "version": "3.10.8"
  }
 },
 "nbformat": 4,
 "nbformat_minor": 5
}
